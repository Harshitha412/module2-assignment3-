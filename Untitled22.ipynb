{
  "nbformat": 4,
  "nbformat_minor": 0,
  "metadata": {
    "colab": {
      "name": "Untitled22.ipynb",
      "provenance": [],
      "collapsed_sections": [],
      "authorship_tag": "ABX9TyOQhVFkXgMDp4WOtaxy/v34",
      "include_colab_link": true
    },
    "kernelspec": {
      "name": "python3",
      "display_name": "Python 3"
    }
  },
  "cells": [
    {
      "cell_type": "markdown",
      "metadata": {
        "id": "view-in-github",
        "colab_type": "text"
      },
      "source": [
        "<a href=\"https://colab.research.google.com/github/Harshitha412/module2-assignment3-/blob/master/Untitled22.ipynb\" target=\"_parent\"><img src=\"https://colab.research.google.com/assets/colab-badge.svg\" alt=\"Open In Colab\"/></a>"
      ]
    },
    {
      "cell_type": "code",
      "metadata": {
        "id": "El1iDXI88nrH",
        "colab_type": "code",
        "colab": {
          "base_uri": "https://localhost:8080/",
          "height": 50
        },
        "outputId": "e7a57853-f2f7-4686-dded-4bf50b69ccc1"
      },
      "source": [
        "#python program to find the area of circle using math function\n",
        "import math\n",
        "r = float(input('enter the radius of the circle :'))\n",
        "area=math.pi * r * r\n",
        "print(\"area of circle is : %.2f\" %area)"
      ],
      "execution_count": null,
      "outputs": [
        {
          "output_type": "stream",
          "text": [
            "enter the radius of the circle :3\n",
            "area of circle is : 28.27\n"
          ],
          "name": "stdout"
        }
      ]
    },
    {
      "cell_type": "code",
      "metadata": {
        "id": "3x3SJDTP-HR1",
        "colab_type": "code",
        "colab": {
          "base_uri": "https://localhost:8080/",
          "height": 67
        },
        "outputId": "aeefcd8a-6e8c-42bc-c517-1787f4751088"
      },
      "source": [
        "#python program to find the area of regular polygon using math function\n",
        "from math import tan,pi\n",
        "n_sides = int(input(\"Input number of sides:\"))\n",
        "s_length = float(input(\"Input the length of a side:\"))\n",
        "p_area = n_sides * (s_length ** 2) / (4 * tan(pi / n_sides))\n",
        "print(\"the area of the polygon is:\",p_area)"
      ],
      "execution_count": null,
      "outputs": [
        {
          "output_type": "stream",
          "text": [
            "Input number of sides:4\n",
            "Input the length of a side:20\n",
            "the area of the polygon is: 400.00000000000006\n"
          ],
          "name": "stdout"
        }
      ]
    },
    {
      "cell_type": "code",
      "metadata": {
        "id": "dMUSP9Kz_VqX",
        "colab_type": "code",
        "colab": {
          "base_uri": "https://localhost:8080/",
          "height": 67
        },
        "outputId": "2dccd18b-9b32-4a55-b2ca-f1628670cefa"
      },
      "source": [
        "#python program to find area of a segment of a circle formula using math function\n",
        "def sectorarea():\n",
        "    pi=22/7\n",
        "    radius = float(input('radius of circle:'))\n",
        "    angle = float(input('angle measure:'))\n",
        "    if angle >= 360:\n",
        "       print(\"angle is not possible\")\n",
        "       return\n",
        "    sur_area = (pi*radius**2) * (angle/360)\n",
        "    print(\"sector area: \",sur_area)\n",
        "sectorarea()\n"
      ],
      "execution_count": null,
      "outputs": [
        {
          "output_type": "stream",
          "text": [
            "radius of circle:4\n",
            "angle measure:45\n",
            "sector area:  6.285714285714286\n"
          ],
          "name": "stdout"
        }
      ]
    },
    {
      "cell_type": "code",
      "metadata": {
        "id": "f8IMzqzw_7qA",
        "colab_type": "code",
        "colab": {
          "base_uri": "https://localhost:8080/",
          "height": 50
        },
        "outputId": "f1e8a70d-7fc7-40d3-a167-92868448bb7c"
      },
      "source": [
        "#python program to shuffle list l1=[100,1,2,3,30,40,\"hai\",\"hello\"]\n",
        "import random\n",
        "list = ['100','1','2','3','30','40',\"hai\",\"hello\"];\n",
        "random.shuffle(list)\n",
        "print(\"list : \",list)\n",
        "random.shuffle(list)\n",
        "print(\"shuffled list : \",list)"
      ],
      "execution_count": 1,
      "outputs": [
        {
          "output_type": "stream",
          "text": [
            "list :  ['100', 'hello', '30', 'hai', '2', '1', '40', '3']\n",
            "shuffled list :  ['100', '2', 'hello', '40', '1', '3', 'hai', '30']\n"
          ],
          "name": "stdout"
        }
      ]
    },
    {
      "cell_type": "code",
      "metadata": {
        "id": "dHvnhsgTB4AO",
        "colab_type": "code",
        "colab": {
          "base_uri": "https://localhost:8080/",
          "height": 34
        },
        "outputId": "f59ac1e2-7d1c-40c2-c4d9-2483ce1c1056"
      },
      "source": [
        "#a program to generate random numbers between 1,10000 and difference b/w each random number is 50\n",
        "import random \n",
        "num=random.randrange(1,1000,50)\n",
        "print(\"random number: \",num)"
      ],
      "execution_count": 2,
      "outputs": [
        {
          "output_type": "stream",
          "text": [
            "random number:  301\n"
          ],
          "name": "stdout"
        }
      ]
    },
    {
      "cell_type": "code",
      "metadata": {
        "id": "V_2ScV4lCdaz",
        "colab_type": "code",
        "colab": {
          "base_uri": "https://localhost:8080/",
          "height": 34
        },
        "outputId": "1ec2b577-ba8b-46c7-c1aa-67da0cc5fff6"
      },
      "source": [
        "#python program by using math module to find\n",
        "#i. sin600\n",
        "import math\n",
        "a=math.pi / 6\n",
        "print(\"the value of sine of pi/6 is:\",end=\"\")\n",
        "print(math.sin(a))"
      ],
      "execution_count": 3,
      "outputs": [
        {
          "output_type": "stream",
          "text": [
            "the value of sine of pi/6 is:0.49999999999999994\n"
          ],
          "name": "stdout"
        }
      ]
    },
    {
      "cell_type": "code",
      "metadata": {
        "id": "OXXcBWC1DGCk",
        "colab_type": "code",
        "colab": {
          "base_uri": "https://localhost:8080/",
          "height": 34
        },
        "outputId": "3621fc6b-4e4a-41e1-dd9c-05d060dc0a21"
      },
      "source": [
        "#ii. cos(pi)\n",
        "import math\n",
        "a = math.pi / 6\n",
        "print(\"the value of cosine of pi/6 is:\",end=\"\")\n",
        "print(math.cos(a))"
      ],
      "execution_count": 6,
      "outputs": [
        {
          "output_type": "stream",
          "text": [
            "the value of cosine of pi/6 is:0.8660254037844387\n"
          ],
          "name": "stdout"
        }
      ]
    },
    {
      "cell_type": "code",
      "metadata": {
        "id": "F0eQcWe8D4tW",
        "colab_type": "code",
        "colab": {
          "base_uri": "https://localhost:8080/",
          "height": 34
        },
        "outputId": "c1a72532-5afb-41dc-99b0-2bd3ecf24cc3"
      },
      "source": [
        "#iii. tan900\n",
        "import math\n",
        "a = math.pi / 6\n",
        "print(\"the value of tangent of pi / 6 is:\",end =\"\")\n",
        "print(math.tan(a))\n"
      ],
      "execution_count": 7,
      "outputs": [
        {
          "output_type": "stream",
          "text": [
            "the value of tangent of pi / 6 is:0.5773502691896257\n"
          ],
          "name": "stdout"
        }
      ]
    },
    {
      "cell_type": "code",
      "metadata": {
        "id": "tbpLf-RZEaxU",
        "colab_type": "code",
        "colab": {
          "base_uri": "https://localhost:8080/",
          "height": 34
        },
        "outputId": "94485191-5dce-44cb-bf4f-f7b439246aa7"
      },
      "source": [
        "#iv. angle of sin(0.8660254037844386)\n",
        "import math\n",
        "print(math.sin(math.pi/3))"
      ],
      "execution_count": 8,
      "outputs": [
        {
          "output_type": "stream",
          "text": [
            "0.8660254037844386\n"
          ],
          "name": "stdout"
        }
      ]
    },
    {
      "cell_type": "code",
      "metadata": {
        "id": "FimjxysdE1rN",
        "colab_type": "code",
        "colab": {
          "base_uri": "https://localhost:8080/",
          "height": 34
        },
        "outputId": "6146a617-6187-4cb0-c9e5-5090b859b0e9"
      },
      "source": [
        "#v. 5^8\n",
        "import math \n",
        "a=5^8\n",
        "print(a)"
      ],
      "execution_count": 9,
      "outputs": [
        {
          "output_type": "stream",
          "text": [
            "13\n"
          ],
          "name": "stdout"
        }
      ]
    },
    {
      "cell_type": "code",
      "metadata": {
        "id": "WIz4ozQvFFXd",
        "colab_type": "code",
        "colab": {
          "base_uri": "https://localhost:8080/",
          "height": 34
        },
        "outputId": "229eef4d-c166-4052-93f0-68e651f3ef12"
      },
      "source": [
        "#vi. square root of 400\n",
        "math.sqrt(400)"
      ],
      "execution_count": 10,
      "outputs": [
        {
          "output_type": "execute_result",
          "data": {
            "text/plain": [
              "20.0"
            ]
          },
          "metadata": {
            "tags": []
          },
          "execution_count": 10
        }
      ]
    },
    {
      "cell_type": "code",
      "metadata": {
        "id": "Tyd26Ef7FQNb",
        "colab_type": "code",
        "colab": {
          "base_uri": "https://localhost:8080/",
          "height": 34
        },
        "outputId": "e9050281-eb9f-4d98-d03e-8609b0e338a4"
      },
      "source": [
        "#vii. the value of 5^e\n",
        "import math\n",
        "x=5\n",
        "b=math.e**x\n",
        "print(b)"
      ],
      "execution_count": 11,
      "outputs": [
        {
          "output_type": "stream",
          "text": [
            "148.41315910257657\n"
          ],
          "name": "stdout"
        }
      ]
    },
    {
      "cell_type": "code",
      "metadata": {
        "id": "Z8_6xn6EFjlo",
        "colab_type": "code",
        "colab": {
          "base_uri": "https://localhost:8080/",
          "height": 34
        },
        "outputId": "3afecf56-5198-4868-ad45-4bf2dc918765"
      },
      "source": [
        "#viii. the value of log(1024),base2\n",
        "import math\n",
        "print(\"logarithm base 2 of 1024 is :\",end=\"\")\n",
        "print(math.log2(1024))"
      ],
      "execution_count": 12,
      "outputs": [
        {
          "output_type": "stream",
          "text": [
            "logarithm base 2 of 1024 is :10.0\n"
          ],
          "name": "stdout"
        }
      ]
    },
    {
      "cell_type": "code",
      "metadata": {
        "id": "14njdN29GABJ",
        "colab_type": "code",
        "colab": {
          "base_uri": "https://localhost:8080/",
          "height": 34
        },
        "outputId": "661d0942-1d5c-42c8-8585-4c649e513861"
      },
      "source": [
        "#ix. the value of log(1024),base 10\n",
        "import math\n",
        "print(\"logarithm base 10 of 1024 is :\",end=\"\")\n",
        "print(math.log10(1024))"
      ],
      "execution_count": 13,
      "outputs": [
        {
          "output_type": "stream",
          "text": [
            "logarithm base 10 of 1024 is :3.010299956639812\n"
          ],
          "name": "stdout"
        }
      ]
    },
    {
      "cell_type": "code",
      "metadata": {
        "id": "2zMcwmGwGgxo",
        "colab_type": "code",
        "colab": {
          "base_uri": "https://localhost:8080/",
          "height": 50
        },
        "outputId": "27464a68-8d82-4676-d17a-535d209b262e"
      },
      "source": [
        "#x. the floor and celing value of 23.56\n",
        "import math\n",
        "print(\"math.floor(23.56): \",math.floor(23.56))\n",
        "print(\"math.ceil(23.56) :\",math.ceil(23.56))\n"
      ],
      "execution_count": 14,
      "outputs": [
        {
          "output_type": "stream",
          "text": [
            "math.floor(23.56):  23\n",
            "math.ceil(23.56) : 24\n"
          ],
          "name": "stdout"
        }
      ]
    }
  ]
}